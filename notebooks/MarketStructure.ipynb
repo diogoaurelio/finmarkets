{
 "cells": [
  {
   "cell_type": "markdown",
   "metadata": {},
   "source": [
    "## Sources\n",
    "\n",
    "[Foreign Exchange Turnover in April 2016](https://www.bis.org/publ/rpfx16fx.pdf)  \n",
    "[Triennial Central Bank Survery of Foreign Exchange and OTC Derivatives Markets in 2016](https://www.bis.org/publ/rpfx16.htm?m=6%7C381%7C677)"
   ]
  },
  {
   "cell_type": "code",
   "execution_count": 24,
   "metadata": {},
   "outputs": [
    {
     "name": "stdout",
     "output_type": "stream",
     "text": [
      "  % Total    % Received % Xferd  Average Speed   Time    Time     Time  Current\n",
      "                                 Dload  Upload   Total   Spent    Left  Speed\n",
      "100  311k  100  311k    0     0   216k      0  0:00:01  0:00:01 --:--:--  216k\n"
     ]
    }
   ],
   "source": [
    "# Save important references\n",
    "web = 'https://www.bis.org/publ/rpfx16fx.pdf'\n",
    "fpath = '../Results/BIS/'\n",
    "!curl -0 https://www.bis.org/publ/rpfx16fx.pdf -o ../Results/BIS/FXTurnover2016.pdf"
   ]
  },
  {
   "cell_type": "code",
   "execution_count": 25,
   "metadata": {},
   "outputs": [
    {
     "name": "stdout",
     "output_type": "stream",
     "text": [
      "total 624\r\n",
      "drwxr-xr-x@ 3 amiteshsinha  staff      96 Nov 12 21:44 \u001b[34m.\u001b[m\u001b[m/\r\n",
      "drwxr-xr-x@ 3 amiteshsinha  staff      96 Nov 12 21:32 \u001b[34m..\u001b[m\u001b[m/\r\n",
      "-rw-r--r--@ 1 amiteshsinha  staff  318591 Nov 12 21:44 FXTurnover2016.pdf\r\n"
     ]
    }
   ],
   "source": [
    "%ls -al ../Results/BIS"
   ]
  },
  {
   "cell_type": "code",
   "execution_count": null,
   "metadata": {},
   "outputs": [],
   "source": []
  }
 ],
 "metadata": {
  "kernelspec": {
   "display_name": "Python 3",
   "language": "python",
   "name": "python3"
  },
  "language_info": {
   "codemirror_mode": {
    "name": "ipython",
    "version": 3
   },
   "file_extension": ".py",
   "mimetype": "text/x-python",
   "name": "python",
   "nbconvert_exporter": "python",
   "pygments_lexer": "ipython3",
   "version": "3.7.0"
  }
 },
 "nbformat": 4,
 "nbformat_minor": 2
}
