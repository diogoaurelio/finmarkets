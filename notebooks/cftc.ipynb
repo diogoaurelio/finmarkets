{
 "cells": [
  {
   "cell_type": "code",
   "execution_count": 1,
   "metadata": {},
   "outputs": [],
   "source": [
    "# Make sure Path is created at the root of the repository\n",
    "import sys\n",
    "if '../' in sys.path:\n",
    "    print('path already exists')\n",
    "else:\n",
    "    sys.path.insert(0,'../')"
   ]
  },
  {
   "cell_type": "code",
   "execution_count": 5,
   "metadata": {},
   "outputs": [],
   "source": [
    "import pandas as pd\n",
    "import matplotlib.pyplot as plt\n",
    "import numpy as np\n",
    "from secret import *\n",
    "import quandl as ql"
   ]
  },
  {
   "cell_type": "code",
   "execution_count": 79,
   "metadata": {},
   "outputs": [],
   "source": [
    "cdict = {\n",
    "    'eur' : 'CFTC/099741_F_L_ALL',\n",
    "    'gold': 'CFTC/088691_F_L_ALL',\n",
    "    'aud' : 'CFTC/232741_F_L_ALL',\n",
    "    'gbp' : 'CFTC/096742_F_L_ALL'\n",
    "}"
   ]
  },
  {
   "cell_type": "code",
   "execution_count": 88,
   "metadata": {},
   "outputs": [],
   "source": [
    "df = ql.get(cdict['gold'],authtoken=quandlkey)/1000 # show everything in thousands"
   ]
  },
  {
   "cell_type": "code",
   "execution_count": 92,
   "metadata": {},
   "outputs": [],
   "source": [
    "df['net_speculative'] = df.iloc[:,1] - df.iloc[:,2]\n",
    "df['net_commercial'] = df.iloc[:,4] - df.iloc[:,5]"
   ]
  },
  {
   "cell_type": "code",
   "execution_count": 93,
   "metadata": {},
   "outputs": [
    {
     "data": {
      "text/html": [
       "<div>\n",
       "<style scoped>\n",
       "    .dataframe tbody tr th:only-of-type {\n",
       "        vertical-align: middle;\n",
       "    }\n",
       "\n",
       "    .dataframe tbody tr th {\n",
       "        vertical-align: top;\n",
       "    }\n",
       "\n",
       "    .dataframe thead th {\n",
       "        text-align: right;\n",
       "    }\n",
       "</style>\n",
       "<table border=\"1\" class=\"dataframe\">\n",
       "  <thead>\n",
       "    <tr style=\"text-align: right;\">\n",
       "      <th></th>\n",
       "      <th>Open Interest</th>\n",
       "      <th>Noncommercial Long</th>\n",
       "      <th>Noncommercial Short</th>\n",
       "      <th>Noncommercial Spreads</th>\n",
       "      <th>Commercial Long</th>\n",
       "      <th>Commercial Short</th>\n",
       "      <th>Total Long</th>\n",
       "      <th>Total Short</th>\n",
       "      <th>Nonreportable Positions Long</th>\n",
       "      <th>Nonreportable Positions Short</th>\n",
       "      <th>net_speculative</th>\n",
       "      <th>net_commercial</th>\n",
       "    </tr>\n",
       "    <tr>\n",
       "      <th>Date</th>\n",
       "      <th></th>\n",
       "      <th></th>\n",
       "      <th></th>\n",
       "      <th></th>\n",
       "      <th></th>\n",
       "      <th></th>\n",
       "      <th></th>\n",
       "      <th></th>\n",
       "      <th></th>\n",
       "      <th></th>\n",
       "      <th></th>\n",
       "      <th></th>\n",
       "    </tr>\n",
       "  </thead>\n",
       "  <tbody>\n",
       "    <tr>\n",
       "      <th>2018-10-16</th>\n",
       "      <td>474.418</td>\n",
       "      <td>189.200</td>\n",
       "      <td>171.533</td>\n",
       "      <td>71.278</td>\n",
       "      <td>166.143</td>\n",
       "      <td>198.139</td>\n",
       "      <td>426.621</td>\n",
       "      <td>440.950</td>\n",
       "      <td>47.797</td>\n",
       "      <td>33.468</td>\n",
       "      <td>17.667</td>\n",
       "      <td>-31.996</td>\n",
       "    </tr>\n",
       "    <tr>\n",
       "      <th>2018-10-23</th>\n",
       "      <td>477.832</td>\n",
       "      <td>192.578</td>\n",
       "      <td>163.190</td>\n",
       "      <td>73.950</td>\n",
       "      <td>163.414</td>\n",
       "      <td>209.934</td>\n",
       "      <td>429.942</td>\n",
       "      <td>447.074</td>\n",
       "      <td>47.890</td>\n",
       "      <td>30.758</td>\n",
       "      <td>29.388</td>\n",
       "      <td>-46.520</td>\n",
       "    </tr>\n",
       "    <tr>\n",
       "      <th>2018-10-30</th>\n",
       "      <td>474.941</td>\n",
       "      <td>168.754</td>\n",
       "      <td>155.560</td>\n",
       "      <td>91.460</td>\n",
       "      <td>165.857</td>\n",
       "      <td>197.062</td>\n",
       "      <td>426.071</td>\n",
       "      <td>444.082</td>\n",
       "      <td>48.870</td>\n",
       "      <td>30.859</td>\n",
       "      <td>13.194</td>\n",
       "      <td>-31.205</td>\n",
       "    </tr>\n",
       "    <tr>\n",
       "      <th>2018-11-06</th>\n",
       "      <td>494.911</td>\n",
       "      <td>169.141</td>\n",
       "      <td>150.115</td>\n",
       "      <td>103.258</td>\n",
       "      <td>173.897</td>\n",
       "      <td>212.033</td>\n",
       "      <td>446.296</td>\n",
       "      <td>465.406</td>\n",
       "      <td>48.615</td>\n",
       "      <td>29.505</td>\n",
       "      <td>19.026</td>\n",
       "      <td>-38.136</td>\n",
       "    </tr>\n",
       "    <tr>\n",
       "      <th>2018-11-13</th>\n",
       "      <td>539.520</td>\n",
       "      <td>168.416</td>\n",
       "      <td>177.663</td>\n",
       "      <td>122.818</td>\n",
       "      <td>201.354</td>\n",
       "      <td>203.177</td>\n",
       "      <td>492.588</td>\n",
       "      <td>503.658</td>\n",
       "      <td>46.932</td>\n",
       "      <td>35.862</td>\n",
       "      <td>-9.247</td>\n",
       "      <td>-1.823</td>\n",
       "    </tr>\n",
       "  </tbody>\n",
       "</table>\n",
       "</div>"
      ],
      "text/plain": [
       "            Open Interest  Noncommercial Long  Noncommercial Short  \\\n",
       "Date                                                                 \n",
       "2018-10-16        474.418             189.200              171.533   \n",
       "2018-10-23        477.832             192.578              163.190   \n",
       "2018-10-30        474.941             168.754              155.560   \n",
       "2018-11-06        494.911             169.141              150.115   \n",
       "2018-11-13        539.520             168.416              177.663   \n",
       "\n",
       "            Noncommercial Spreads  Commercial Long  Commercial Short  \\\n",
       "Date                                                                   \n",
       "2018-10-16                 71.278          166.143           198.139   \n",
       "2018-10-23                 73.950          163.414           209.934   \n",
       "2018-10-30                 91.460          165.857           197.062   \n",
       "2018-11-06                103.258          173.897           212.033   \n",
       "2018-11-13                122.818          201.354           203.177   \n",
       "\n",
       "            Total Long  Total Short  Nonreportable Positions Long  \\\n",
       "Date                                                                \n",
       "2018-10-16     426.621      440.950                        47.797   \n",
       "2018-10-23     429.942      447.074                        47.890   \n",
       "2018-10-30     426.071      444.082                        48.870   \n",
       "2018-11-06     446.296      465.406                        48.615   \n",
       "2018-11-13     492.588      503.658                        46.932   \n",
       "\n",
       "            Nonreportable Positions Short  net_speculative  net_commercial  \n",
       "Date                                                                        \n",
       "2018-10-16                         33.468           17.667         -31.996  \n",
       "2018-10-23                         30.758           29.388         -46.520  \n",
       "2018-10-30                         30.859           13.194         -31.205  \n",
       "2018-11-06                         29.505           19.026         -38.136  \n",
       "2018-11-13                         35.862           -9.247          -1.823  "
      ]
     },
     "execution_count": 93,
     "metadata": {},
     "output_type": "execute_result"
    }
   ],
   "source": [
    "df[['net_speculative','net_commercial']]"
   ]
  },
  {
   "cell_type": "code",
   "execution_count": 83,
   "metadata": {},
   "outputs": [
    {
     "data": {
      "text/plain": [
       "-9247.0"
      ]
     },
     "execution_count": 83,
     "metadata": {},
     "output_type": "execute_result"
    }
   ],
   "source": [
    "168416.0 - 177663.0"
   ]
  },
  {
   "cell_type": "code",
   "execution_count": 84,
   "metadata": {},
   "outputs": [
    {
     "data": {
      "text/plain": [
       "Index(['Open Interest', 'Noncommercial Long', 'Noncommercial Short',\n",
       "       'Noncommercial Spreads', 'Commercial Long', 'Commercial Short',\n",
       "       'Total Long', 'Total Short', 'Nonreportable Positions Long',\n",
       "       'Nonreportable Positions Short'],\n",
       "      dtype='object')"
      ]
     },
     "execution_count": 84,
     "metadata": {},
     "output_type": "execute_result"
    }
   ],
   "source": [
    "df.columns"
   ]
  },
  {
   "cell_type": "code",
   "execution_count": 87,
   "metadata": {},
   "outputs": [
    {
     "data": {
      "text/plain": [
       "Date\n",
       "2018-10-16    17667.0\n",
       "2018-10-23    29388.0\n",
       "2018-10-30    13194.0\n",
       "2018-11-06    19026.0\n",
       "2018-11-13    -9247.0\n",
       "dtype: float64"
      ]
     },
     "execution_count": 87,
     "metadata": {},
     "output_type": "execute_result"
    }
   ],
   "source": [
    "(df.iloc[:,1] - df.iloc[:,2]).tail()"
   ]
  },
  {
   "cell_type": "code",
   "execution_count": null,
   "metadata": {},
   "outputs": [],
   "source": []
  }
 ],
 "metadata": {
  "kernelspec": {
   "display_name": "Python 3",
   "language": "python",
   "name": "python3"
  },
  "language_info": {
   "codemirror_mode": {
    "name": "ipython",
    "version": 3
   },
   "file_extension": ".py",
   "mimetype": "text/x-python",
   "name": "python",
   "nbconvert_exporter": "python",
   "pygments_lexer": "ipython3",
   "version": "3.6.7"
  }
 },
 "nbformat": 4,
 "nbformat_minor": 2
}
